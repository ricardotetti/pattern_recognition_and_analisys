{
 "cells": [
  {
   "cell_type": "code",
   "execution_count": 27,
   "metadata": {},
   "outputs": [],
   "source": [
    "import numpy as np\n",
    "import matplotlib.pyplot as plt\n",
    "import math\n",
    "import pylab\n",
    "import random\n",
    "import cv2"
   ]
  },
  {
   "cell_type": "code",
   "execution_count": 30,
   "metadata": {},
   "outputs": [],
   "source": [
    "class Automatos:\n",
    "    def __init__(self, M):\n",
    "        self.matriz = np.array(M)\n",
    "        self.symb = []\n",
    "        self.padroes = []\n",
    "    def symbols(self,S):\n",
    "        self.symb = S\n",
    "    def deterministic(self, inter):\n",
    "        k = 0\n",
    "        for i in range(inter):\n",
    "            r = np.random.random_sample()\n",
    "            a = 0\n",
    "            for j in range(len(self.matriz)):\n",
    "                a = a + self.matriz[k][j]\n",
    "                if r < a:\n",
    "                    self.padroes.append(self.symb[k])\n",
    "                    k = j\n",
    "                    break\n",
    "        return self.padroes\n",
    "    \n",
    "M = [[0.5,0.5,0,0],\n",
    "    [0,0.1,0.9,0],\n",
    "    [0,0,0.6,0.4],\n",
    "    [0.7,0,0,0.3]\n",
    "    ] \n",
    "\n",
    "auto = Automatos(M)\n",
    "auto.symbols([0,1,2,3])\n",
    "padroes = auto.deterministic(100)"
   ]
  },
  {
   "cell_type": "code",
   "execution_count": 31,
   "metadata": {},
   "outputs": [
    {
     "data": {
      "image/png": "[encoded data removed]",
      "text/plain": [
       "<Figure size 1440x360 with 2 Axes>"
      ]
     },
     "metadata": {
      "needs_background": "light"
     },
     "output_type": "display_data"
    }
   ],
   "source": [
    "class SOM:\n",
    "    def __init__(self):\n",
    "        self.random_list = []\n",
    "        self.diferenca = []\n",
    "    def aleatorios(self,P):\n",
    "        for i in range(len(P)):\n",
    "            self.random_list.append(np.random.random())\n",
    "    def difference(self,P):\n",
    "        for i in range(len(P)):\n",
    "            k = P[i] - self.random_list[i]\n",
    "            self.diferenca.append(k)\n",
    "    def plot(self,P):\n",
    "        marks = np.arange((len(P)))\n",
    "        fig, (x1, x2) = plt.subplots(2, sharex = True, sharey = True, figsize=(20, 5))\n",
    "        x1.stem(marks, P,'dimgrey', linefmt=None, markerfmt = '.')\n",
    "        x2.stem(marks, self.diferenca,'dimgrey' ,linefmt=None, markerfmt = '.')\n",
    "        plt.xlim(0,len(P))\n",
    "        plt.show()\n",
    "    \n",
    "    \n",
    "pesos = SOM()\n",
    "pesos.aleatorios(padroes)\n",
    "pesos.difference(padroes)\n",
    "pesos.plot(padroes)"
   ]
  },
  {
   "cell_type": "code",
   "execution_count": null,
   "metadata": {},
   "outputs": [],
   "source": []
  }
 ],
 "metadata": {
  "kernelspec": {
   "display_name": "Python 3",
   "language": "python",
   "name": "python3"
  },
  "language_info": {
   "codemirror_mode": {
    "name": "ipython",
    "version": 3
   },
   "file_extension": ".py",
   "mimetype": "text/x-python",
   "name": "python",
   "nbconvert_exporter": "python",
   "pygments_lexer": "ipython3",
   "version": "3.7.3"
  }
 },
 "nbformat": 4,
 "nbformat_minor": 2
}
