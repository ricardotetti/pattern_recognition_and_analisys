{
 "cells": [
  {
   "cell_type": "code",
   "execution_count": 60,
   "metadata": {},
   "outputs": [],
   "source": [
    "from random import seed\n",
    "from random import random\n",
    "import numpy as np \n",
    "import matplotlib.pyplot as plt\n",
    "from scipy import signal\n",
    "import pylab\n",
    "import math\n",
    "import seaborn as sns"
   ]
  },
  {
   "cell_type": "code",
   "execution_count": 70,
   "metadata": {},
   "outputs": [],
   "source": [
    "class Automatos:\n",
    "    def __init__(self, M):\n",
    "        self.matriz = np.array(M)\n",
    "        self.symb = []\n",
    "        self.padroes = []\n",
    "    def deterministic(self, inter, S):\n",
    "        self.symb = S\n",
    "        k = 0\n",
    "        for i in range(inter):\n",
    "            r = np.random.random_sample()\n",
    "            a = 0\n",
    "            for j in range(len(self.matriz)):\n",
    "                a = a + self.matriz[k][j]\n",
    "                if r < a:\n",
    "                    self.padroes.append(self.symb[k])\n",
    "                    k = j\n",
    "                    break\n",
    "        return self.padroes\n",
    "fig1d_matrix = [\n",
    "    [0.9,0.1,0,0,0,0],\n",
    "    [0.882,0.098,0.02,0,0,0],\n",
    "    [0,0,0.2,0.8,0,0],\n",
    "    [0,0,0.194,0.776,0.03,0],\n",
    "    [0,0,0,0,0.5,0.5],\n",
    "    [0.01,0,0,0,0.495,0.495]\n",
    "    ] #Nesse caso a matriz é para os automatos 0,1,2,3,4,5\n",
    "s_fig1d = [0,1,2,3,4,5]\n",
    "fig1e_matrix = [\n",
    "    [0.9,0.1,0,0,0,0],\n",
    "    [0.882,0.098,0.02,0,0,0],\n",
    "    [0,0,0.2,0.8,0,0],\n",
    "    [0,0,0.194,0.776,0.03,0],\n",
    "    [0,0,0,0,0.5,0.5],\n",
    "    [0.01,0,0,0,0.495,0.495]\n",
    "    ] #Nesse caso a matriz é para os automatos 1 e 0\n",
    "s_fig1e = [0,1,0,1,0,1]\n",
    "\n",
    "fig1d = Automatos(fig1d_matrix)\n",
    "padroes_fig1d = fig1d.deterministic(200,s_fig1d)\n",
    "\n",
    "fig1e = Automatos(fig1e_matrix)\n",
    "padroes_fig1e = fig1e.deterministic(200,s_fig1e)\n",
    "\n",
    "#print(padroes_fig1d)\n",
    "#print(padroes_fig1e)"
   ]
  },
  {
   "cell_type": "code",
   "execution_count": 76,
   "metadata": {},
   "outputs": [
    {
     "data": {
      "image/png": "[encoded data removed]",
      "text/plain": [
       "<Figure size 432x288 with 2 Axes>"
      ]
     },
     "metadata": {
      "needs_background": "light"
     },
     "output_type": "display_data"
    }
   ],
   "source": [
    "marks_fig1d = np.arange(len(padroes_fig1d))\n",
    "fig, (x1, x2) = plt.subplots(2, sharex = True)\n",
    "x1.stem(marks_fig1d, padroes_fig1d)\n",
    "x2.stem(marks_fig1d, padroes_fig1e)\n",
    "plt.suptitle('Stem Plot')\n",
    "plt.xlabel('f')\n",
    "plt.show()"
   ]
  },
  {
   "cell_type": "code",
   "execution_count": 72,
   "metadata": {},
   "outputs": [
    {
     "data": {
      "image/png": "[encoded data removed]",
      "text/plain": [
       "<Figure size 432x288 with 2 Axes>"
      ]
     },
     "metadata": {
      "needs_background": "light"
     },
     "output_type": "display_data"
    }
   ],
   "source": [
    "fig, (x1, x2) = plt.subplots(2, sharex = True)\n",
    "\n",
    "x = np.arange(len(padroes_fig1d))\n",
    "x1.bar(x, padroes_fig1d)\n",
    "x2.bar(x, padroes_fig1e)\n",
    "\n",
    "plt.suptitle('Barplot')\n",
    "plt.xlabel('f')\n",
    "\n",
    "plt.show()"
   ]
  },
  {
   "cell_type": "code",
   "execution_count": 73,
   "metadata": {},
   "outputs": [
    {
     "data": {
      "image/png": "[encoded data removed]",
      "text/plain": [
       "<Figure size 432x288 with 2 Axes>"
      ]
     },
     "metadata": {
      "needs_background": "light"
     },
     "output_type": "display_data"
    }
   ],
   "source": [
    "from numpy import arange\n",
    "fig, (x1, x2) = plt.subplots(2, sharex = True)\n",
    "\n",
    "plt.suptitle(\"Square wave\")\n",
    "x1.step(arange(0,len(padroes_fig1d)),padroes_fig1d, color = 'darkblue')\n",
    "x2.step(arange(0,len(padroes_fig1e)),padroes_fig1e, color = 'darkblue')\n",
    "plt.show()"
   ]
  },
  {
   "cell_type": "code",
   "execution_count": 74,
   "metadata": {},
   "outputs": [],
   "source": [
    "#import math\n",
    "\n",
    "#media = np.mean(padroes_fig1d)\n",
    "#desvio = np.std(padroes_fig1d)\n",
    "\n",
    "#def probability_density(x):\n",
    "#    pdf = (1/(desvio*math.sqrt(2*math.pi)))*math.exp((-1/2)*((x-media)/desvio)**2)\n",
    "#    return pdf\n",
    "#k = []\n",
    "#for i in range(inter):\n",
    "#    k.append(probability_density(padroes_fig1d[i]))"
   ]
  },
  {
   "cell_type": "code",
   "execution_count": 75,
   "metadata": {},
   "outputs": [],
   "source": [
    "#sns.distplot(padroes_fig1d, hist = False, kde = True, rug = True,\n",
    "#             color = 'darkblue', \n",
    "#             kde_kws={'shade': True, 'linewidth':2},\n",
    "#             rug_kws={'color': 'black'})\n",
    "#sns.distplot(hl, hist=False, color=\"g\", kde_kws={\"shade\": True}, ax=axes[1, 0])\n",
    "#plt.title('Density Plot')\n",
    "#plt.xlabel('f')\n",
    "#plt.ylabel('Density')\n",
    "#plt.show()"
   ]
  }
 ],
 "metadata": {
  "kernelspec": {
   "display_name": "Python 3",
   "language": "python",
   "name": "python3"
  },
  "language_info": {
   "codemirror_mode": {
    "name": "ipython",
    "version": 3
   },
   "file_extension": ".py",
   "mimetype": "text/x-python",
   "name": "python",
   "nbconvert_exporter": "python",
   "pygments_lexer": "ipython3",
   "version": "3.7.3"
  }
 },
 "nbformat": 4,
 "nbformat_minor": 2
}
