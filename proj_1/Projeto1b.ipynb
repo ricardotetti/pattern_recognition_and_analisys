{
 "cells": [
  {
   "cell_type": "code",
   "execution_count": 2,
   "metadata": {},
   "outputs": [],
   "source": [
    "from random import seed\n",
    "from random import random\n",
    "import numpy as np \n",
    "import matplotlib.pyplot as plt\n",
    "from scipy import signal\n",
    "import pylab\n",
    "import math\n",
    "import seaborn as sns"
   ]
  },
  {
   "cell_type": "code",
   "execution_count": null,
   "metadata": {},
   "outputs": [],
   "source": [
    "class Automatos_part2:\n",
    "    def __init__(self):\n",
    "        self.matriz1 = [[0.9,0.2,0,0,0,0],\n",
    "            [0.882,0.98,0.02,0,0,0],\n",
    "            [0,0,0.2,0.8,0,0],\n",
    "            [0,0,0.194,0.776,0.03,0],\n",
    "            [0,0,0,0,0.5,0.5],\n",
    "            [0.01,0,0,0,0.495,0.495],\n",
    "            ] #Nesse caso a matriz é para os automatos 0,1,2,3,4,5\n",
    "        self.matriz2 = [\n",
    "            [0.9,0.2,0,0,0,0],\n",
    "            [0.882,0.98,0.02,0,0,0],\n",
    "            [0,0,0.2,0.8,0,0],\n",
    "            [0,0,0.194,0.776,0.03,0],\n",
    "            [0,0,0,0,0.5,0.5],\n",
    "            [0.01,0,0,0,0.495,0.495]\n",
    "            ] #Nesse caso a matriz é para os automatos 1 e 0\n",
    "        self.r = random()\n",
    "\n",
    "    def stochastic_matrix2(self):\n",
    "        k = 6 \n",
    "        M = []\n",
    "        linha = [0,0,0,0,0,0]\n",
    "        r = random()\n",
    "        linha[0] = r\n",
    "        for i in range(1,k): \n",
    "            if sum(linha) < 1:\n",
    "                linha[i] = 1 - (linha[0])**2\n",
    "            else:\n",
    "                break\n",
    "        M.append(linha)\n",
    "        return M \n",
    "    \n",
    "\n",
    "matriz1_6x6 = []\n",
    "matriz2_6x6 = []"
   ]
  }
 ],
 "metadata": {
  "kernelspec": {
   "display_name": "Python 3",
   "language": "python",
   "name": "python3"
  },
  "language_info": {
   "codemirror_mode": {
    "name": "ipython",
    "version": 3
   },
   "file_extension": ".py",
   "mimetype": "text/x-python",
   "name": "python",
   "nbconvert_exporter": "python",
   "pygments_lexer": "ipython3",
   "version": "3.7.3"
  }
 },
 "nbformat": 4,
 "nbformat_minor": 2
}
