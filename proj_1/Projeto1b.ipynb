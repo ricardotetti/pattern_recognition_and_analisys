{
 "cells": [
  {
   "cell_type": "code",
   "execution_count": 11,
   "metadata": {},
   "outputs": [],
   "source": [
    "from random import seed\n",
    "from random import random\n",
    "import numpy as np \n",
    "import matplotlib.pyplot as plt\n",
    "from scipy import signal\n",
    "import pylab\n",
    "import math\n",
    "import seaborn as sns"
   ]
  },
  {
   "cell_type": "code",
   "execution_count": 14,
   "metadata": {},
   "outputs": [],
   "source": [
    "class Automatos_part2:\n",
    "    def __init__(self):\n",
    "        self.matriz1 = [[0.9,0.2,0,0,0,0],\n",
    "            [0.882,0.98,0.02,0,0,0],\n",
    "            [0,0,0.2,0.8,0,0],\n",
    "            [0,0,0.194,0.776,0.03,0],\n",
    "            [0,0,0,0,0.5,0.5],\n",
    "            [0.01,0,0,0,0.495,0.495],\n",
    "            ] #Nesse caso a matriz é para os automatos 0,1,2,3,4,5\n",
    "        self.matriz2 = [\n",
    "            [0.9,0.2,0,0,0,0],\n",
    "            [0.882,0.98,0.02,0,0,0],\n",
    "            [0,0,0.2,0.8,0,0],\n",
    "            [0,0,0.194,0.776,0.03,0],\n",
    "            [0,0,0,0,0.5,0.5],\n",
    "            [0.01,0,0,0,0.495,0.495]\n",
    "            ] #Nesse caso a matriz é para os automatos 1 e 0\n",
    "        self.r = random()\n",
    "    def deterministic_automata(self, i):\n",
    "        p = np.array([])\n",
    "        array_matriz2 = np.array(self.matriz2)\n",
    "        A_transpose = array_matriz2.transpose()\n",
    "        r = random()\n",
    "        \n",
    "        if i == 1:\n",
    "            p = A_transpose[1]\n",
    "            l = p[i]\n",
    "            while r > l:\n",
    "                i -= 1\n",
    "                l += p[i]\n",
    "        elif i == 0:\n",
    "            p = A_transpose[0]\n",
    "            l = p[i]\n",
    "            while r > l:\n",
    "                i += 1\n",
    "                l += p[i]\n",
    "        return i\n",
    "    \n",
    "joao = Automatos_part2()\n",
    "inter = 200\n",
    "h = []\n",
    "\n",
    "for i in range(inter):\n",
    "    h.append(joao.deterministic_automata(1))\n",
    "\n",
    "joao_padroes6x6 = np.append(h,1)"
   ]
  },
  {
   "cell_type": "code",
   "execution_count": 15,
   "metadata": {},
   "outputs": [
    {
     "data": {
      "image/png": "[encoded data removed]",
      "text/plain": [
       "<Figure size 432x288 with 1 Axes>"
      ]
     },
     "metadata": {
      "needs_background": "light"
     },
     "output_type": "display_data"
    }
   ],
   "source": [
    "marks = np.arange(inter + 1)\n",
    "\n",
    "\n",
    "pylab.xlim([0,inter])\n",
    "pylab.ylim([0,1.25])\n",
    "\n",
    "#fig, (x1, x2, x3) = plt.subplots(1, 3)\n",
    "\n",
    "x1 = plt.stem(marks, joao_padroes6x6, '-.')\n",
    "#x2 = plt.stem(marks, pedro_padroes, '-.')\n",
    "#x3 = plt.stem(marks, carlos_padroes, '-.')\n",
    "\n",
    "\n",
    "plt.title('Stem Plot')\n",
    "plt.xlabel('f')\n",
    "\n",
    "plt.show()"
   ]
  },
  {
   "cell_type": "code",
   "execution_count": null,
   "metadata": {},
   "outputs": [],
   "source": []
  }
 ],
 "metadata": {
  "kernelspec": {
   "display_name": "Python 3",
   "language": "python",
   "name": "python3"
  },
  "language_info": {
   "codemirror_mode": {
    "name": "ipython",
    "version": 3
   },
   "file_extension": ".py",
   "mimetype": "text/x-python",
   "name": "python",
   "nbconvert_exporter": "python",
   "pygments_lexer": "ipython3",
   "version": "3.7.3"
  }
 },
 "nbformat": 4,
 "nbformat_minor": 2
}
