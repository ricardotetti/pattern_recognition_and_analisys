{
 "cells": [
  {
   "cell_type": "code",
   "execution_count": 1,
   "metadata": {},
   "outputs": [],
   "source": [
    "from random import seed\n",
    "from random import random\n",
    "import numpy as np \n",
    "\n",
    "class Automatos:\n",
    "    def __init__(self):\n",
    "        self.A = []\n",
    "        self.r = random()\n",
    "\n",
    "    def stochastic_matrix(self): \n",
    "        k = 2\n",
    "        for i in range(k): \n",
    "            linha = []\n",
    "            for j in range(k):\n",
    "                linha.append(0)\n",
    "            self.A.append(linha)\n",
    "            \n",
    "        for i in range(k): #Adiciona o primeiro elemento de todas as colunas com um aleatorio\n",
    "            self.A[0][i] = random()\n",
    "        \n",
    "        self.A[1][0] = 1 - self.A[0][0]\n",
    "        self.A[1][1] = 1 - self.A[0][1]       \n",
    "                \n",
    "        A_array = np.array(self.A)\n",
    "        #A_transpose = A_array.transpose()\n",
    "        #return A_transpose\n",
    "        return A_array\n",
    "\n",
    "    def deterministic_automata(self, i):\n",
    "        p = np.array([])\n",
    "        A_transpose = self.stochastic_matrix().transpose()\n",
    "        r = random()\n",
    "        \n",
    "        if i == 1:\n",
    "            p = A_transpose[1]\n",
    "            l = p[i]\n",
    "            while r > l:\n",
    "                i -= 1\n",
    "                l += p[i]\n",
    "        elif i == 0:\n",
    "            p = A_transpose[0]\n",
    "            l = p[i]\n",
    "            while r > l:\n",
    "                i += 1\n",
    "                l += p[i]\n",
    "        return i\n",
    "    \n",
    "joao = Automatos()\n",
    "pedro = Automatos()\n",
    "carlos = Automatos()\n",
    "#print(pedro.stochastic_matrix())\n",
    "#print(joao.stochastic_matrix())\n",
    "#print(carlos.stochastic_matrix())\n",
    "inter = 200\n",
    "h = []\n",
    "pedro_ = []\n",
    "carlos_ = []\n",
    "for i in range(inter):\n",
    "    h.append(joao.deterministic_automata(1))\n",
    "    pedro_.append(pedro.deterministic_automata(1))\n",
    "    carlos_.append(carlos.deterministic_automata(1))\n",
    "\n",
    "hl = np.append(h,1)\n",
    "pedro_padroes = np.append(pedro_,1)\n",
    "carlos_padroes = np.append(carlos_,1)\n",
    "\n",
    "#print(hl)\n",
    "#print(pedro_padroes)\n",
    "#print(carlos_padroes)"
   ]
  },
  {
   "cell_type": "code",
   "execution_count": 12,
   "metadata": {
    "scrolled": true
   },
   "outputs": [
    {
     "data": {
      "image/png": "[encoded data removed]",
      "text/plain": [
       "<Figure size 432x288 with 1 Axes>"
      ]
     },
     "metadata": {
      "needs_background": "light"
     },
     "output_type": "display_data"
    }
   ],
   "source": [
    "import matplotlib.pyplot as plt\n",
    "from scipy import signal\n",
    "import pylab\n",
    "\n",
    "marks = np.arange(inter + 1)\n",
    "\n",
    "\n",
    "pylab.xlim([0,inter])\n",
    "pylab.ylim([0,1.25])\n",
    "\n",
    "#fig, (x1, x2, x3) = plt.subplots(1, 3)\n",
    "\n",
    "x1 = plt.stem(marks, hl)\n",
    "#x2 = plt.stem(marks, pedro_padroes, '-.')\n",
    "#x3 = plt.stem(marks, carlos_padroes, '-.')\n",
    "\n",
    "\n",
    "plt.title('Stem Plot')\n",
    "plt.xlabel('f')\n",
    "\n",
    "plt.show()"
   ]
  },
  {
   "cell_type": "code",
   "execution_count": 3,
   "metadata": {},
   "outputs": [
    {
     "data": {
      "image/png": "[encoded data removed]",
      "text/plain": [
       "<Figure size 432x288 with 1 Axes>"
      ]
     },
     "metadata": {
      "needs_background": "light"
     },
     "output_type": "display_data"
    }
   ],
   "source": [
    "x = np.arange(inter+1)\n",
    "plt.bar(x, hl)\n",
    "#plt.bar(x, carlos_padroes)\n",
    "#plt.bar(x,pedro_padroes)\n",
    "\n",
    "plt.title('Barplot')\n",
    "plt.xlabel('f')\n",
    "pylab.xlim(0,inter+1)\n",
    "pylab.ylim(0,1)\n",
    "\n",
    "plt.show()"
   ]
  },
  {
   "cell_type": "code",
   "execution_count": 13,
   "metadata": {},
   "outputs": [
    {
     "data": {
      "image/png": "[encoded data removed]",
      "text/plain": [
       "<Figure size 432x288 with 1 Axes>"
      ]
     },
     "metadata": {
      "needs_background": "light"
     },
     "output_type": "display_data"
    }
   ],
   "source": [
    "from numpy import arange\n",
    "\n",
    "plt.title(\"Square wave\")\n",
    "plt.step(arange(0,len(hl)),hl, color = 'darkblue')\n",
    "#plt.step(arange(0,len(carlos_padroes)),carlos_padroes, color = 'darkblue')\n",
    "#plt.step(arange(0,len(pedro_padroes)),pedro_padroes, color = 'darkblue')\n",
    "plt.xlim(0,len(hl))\n",
    "\n",
    "plt.show()"
   ]
  },
  {
   "cell_type": "code",
   "execution_count": 5,
   "metadata": {},
   "outputs": [],
   "source": [
    "import math\n",
    "\n",
    "media = np.mean(hl)\n",
    "desvio = np.std(hl)\n",
    "\n",
    "#def probability_density(x):\n",
    " #   pdf = (1/(desvio*math.sqrt(2*math.pi)))*math.exp((-1/2)*((x-media)/desvio)**2)\n",
    "  #  return pdf\n",
    "\n",
    "k = []\n",
    "p = []\n",
    "for i in range(len(hl)):\n",
    "    pdf = (1/(desvio*math.sqrt(2*math.pi)))*math.exp((-1/2)*((hl[i]-media)/desvio)**2)\n",
    "    k.append(pdf)\n",
    "    p.append(i)\n",
    "    \n",
    "#plt.plot(k)\n",
    "\n",
    "\n",
    "#for i in range(inter + 1):\n",
    "    #k.append(probability_density(hl[i]))\n",
    "    #p.append(i)\n",
    "    #plt.plot(i,probability_density(hl[i]))\n",
    "#print(k)\n",
    "#plt.plot(k,probability_density())\n",
    "#plt.xlim(0,1)\n",
    "#plt.show()"
   ]
  },
  {
   "cell_type": "code",
   "execution_count": 6,
   "metadata": {},
   "outputs": [
    {
     "data": {
      "image/png": "[encoded data removed]",
      "text/plain": [
       "<Figure size 432x288 with 1 Axes>"
      ]
     },
     "metadata": {
      "needs_background": "light"
     },
     "output_type": "display_data"
    }
   ],
   "source": [
    "import seaborn as sns\n",
    "\n",
    "sns.distplot(hl, hist = False, kde = True, rug = True,\n",
    "             color = 'darkblue', \n",
    "             kde_kws={'shade': True, 'linewidth':2},\n",
    "             rug_kws={'color': 'black'})\n",
    "#sns.distplot(hl, hist=False, color=\"g\", kde_kws={\"shade\": True}, ax=axes[1, 0])\n",
    "plt.title('Density Plot')\n",
    "plt.xlabel('f')\n",
    "plt.ylabel('Density')\n",
    "plt.show()"
   ]
  },
  {
   "cell_type": "code",
   "execution_count": 7,
   "metadata": {},
   "outputs": [
    {
     "data": {
      "image/png": "[encoded data removed]",
      "text/plain": [
       "<Figure size 432x288 with 1 Axes>"
      ]
     },
     "metadata": {
      "needs_background": "light"
     },
     "output_type": "display_data"
    }
   ],
   "source": [
    "import scipy.stats\n",
    "\n",
    "x_min = -1\n",
    "x_max = 3\n",
    "\n",
    "media = np.mean(hl)\n",
    "std = np.std(hl)\n",
    "\n",
    "x = np.linspace(x_min, x_max, 1000)\n",
    "y = scipy.stats.norm.pdf(x,media,std)\n",
    "\n",
    "plt.plot(x,y, color='coral')\n",
    "plt.show()"
   ]
  },
  {
   "cell_type": "code",
   "execution_count": 8,
   "metadata": {},
   "outputs": [],
   "source": [
    "contador = 0\n",
    "for i in range(len(hl)):\n",
    "    if hl[i] == 1:\n",
    "        contador += 1\n",
    "media_um = contador/len(hl)\n"
   ]
  },
  {
   "cell_type": "code",
   "execution_count": 9,
   "metadata": {},
   "outputs": [
    {
     "name": "stdout",
     "output_type": "stream",
     "text": [
      "[94, 107]\n",
      "[1, 0]\n"
     ]
    },
    {
     "data": {
      "image/png": "[encoded data removed]",
      "text/plain": [
       "<Figure size 432x288 with 1 Axes>"
      ]
     },
     "metadata": {
      "needs_background": "light"
     },
     "output_type": "display_data"
    }
   ],
   "source": [
    "elem = []\n",
    "number =[]\n",
    "for i in range(len(hl)):\n",
    "    if hl[i] not in elem:\n",
    "        elem.append(hl[i])\n",
    "    else:\n",
    "        continue\n",
    "for i in range(len(elem)):\n",
    "    c = 0\n",
    "    for k in range(len(hl)):\n",
    "        if elem[i] == hl[k]:\n",
    "            c += 1\n",
    "        else:\n",
    "            continue\n",
    "    number.append(c)\n",
    "\n",
    "print(number)\n",
    "print(elem)\n",
    "\n",
    "plt.scatter(elem,number)\n",
    "plt.show()"
   ]
  },
  {
   "cell_type": "code",
   "execution_count": 10,
   "metadata": {},
   "outputs": [],
   "source": [
    "relative_frequency = []\n",
    "contador = 0\n",
    "for i in range(len(hl)):\n",
    "    if hl[i] == 1:\n",
    "        relative_frequency.append(1/len(hl))\n",
    "        contador += 1\n",
    "    else:\n",
    "        relative_frequency.append(0)\n",
    "#print(contador)\n",
    "#print(relative_frequency)"
   ]
  },
  {
   "cell_type": "code",
   "execution_count": 11,
   "metadata": {},
   "outputs": [
    {
     "data": {
      "text/plain": [
       "[<matplotlib.lines.Line2D at 0x7f16c6ce3278>]"
      ]
     },
     "execution_count": 11,
     "metadata": {},
     "output_type": "execute_result"
    },
    {
     "data": {
      "image/png": "[encoded data removed]",
      "text/plain": [
       "<Figure size 432x288 with 1 Axes>"
      ]
     },
     "metadata": {
      "needs_background": "light"
     },
     "output_type": "display_data"
    }
   ],
   "source": [
    "from scipy import signal \n",
    "k = np.std(hl)\n",
    "window = signal.gaussian(len(hl), std = k)\n",
    "#print(window)\n",
    "plt.plot(window)"
   ]
  }
 ],
 "metadata": {
  "kernelspec": {
   "display_name": "Python 3",
   "language": "python",
   "name": "python3"
  },
  "language_info": {
   "codemirror_mode": {
    "name": "ipython",
    "version": 3
   },
   "file_extension": ".py",
   "mimetype": "text/x-python",
   "name": "python",
   "nbconvert_exporter": "python",
   "pygments_lexer": "ipython3",
   "version": "3.7.3"
  }
 },
 "nbformat": 4,
 "nbformat_minor": 4
}
