{
 "cells": [
  {
   "cell_type": "code",
   "execution_count": null,
   "metadata": {},
   "outputs": [],
   "source": [
    "#Primeira parte: Para cada um dos 3 automatos probabilisticos de 2 nós, obter N padroes de M e visualizar\n",
    "#com o três gráficos diferentes (stem plot, square wave, continuos bar)\n",
    "#1 -> Definir matriz A. 2-> L[0] = 0; NC = 0. 3-> for i=1,(M-1): L[i] = \n",
    "\n",
    "#Segunda parte: "
   ]
  },
  {
   "cell_type": "code",
   "execution_count": 47,
   "metadata": {},
   "outputs": [
    {
     "name": "stdout",
     "output_type": "stream",
     "text": [
      "[[0.1730074  0.8269926 ]\n",
      " [0.54879876 0.45120124]]\n"
     ]
    }
   ],
   "source": [
    "from random import seed\n",
    "from random import random\n",
    "import numpy as np \n",
    "\n",
    "class Automatos:\n",
    "    def __init__(self):\n",
    "        self.A = []\n",
    "        self.B = []\n",
    "        self.r = random()\n",
    "\n",
    "    def stochastic_matrix(self):\n",
    "        k = 2 #k é o tamanho da matriz\n",
    "        for i in range(k): #Cria uma matriz com zeros\n",
    "            linha = []\n",
    "            for j in range(k):\n",
    "                linha.append(0)\n",
    "            self.A.append(linha)\n",
    "            \n",
    "        for i in range(k): #Adiciona o primeiro elemento de todas as colunas com um aleatorio\n",
    "            self.A[0][i] = random()\n",
    "        \n",
    "        #Como não consegui montar com eficiencia a matriz para NxN, vamos com a 2x2\n",
    "        self.A[1][0] = 1 - self.A[0][0]\n",
    "        self.A[1][1] = 1 - self.A[0][1]\n",
    "            \n",
    "        #for i in range(k): #colocar condicionais para montar a matriz de probabilidade\n",
    "         #   for j in range(k): \n",
    "                \n",
    "            \n",
    "        A_array = np.array(self.A)\n",
    "        #A_transpose = A_array.transpose()\n",
    "        #return A_transpose\n",
    "        return A_array\n",
    "\n",
    "    def deterministic_automata(self):\n",
    "        p = np.array([])\n",
    "        A_transpose = self.stochastic_matrix().transpose()\n",
    "        \n",
    "        #return A_transpose\n",
    "        \n",
    "        \n",
    "        \n",
    "        #inter = 200\n",
    "        #for i in range(inter):\n",
    "        #    linha = []\n",
    "        #    for j in range(inter):\n",
    "        #        linha.append(0)\n",
    "        #    self.B.append(linha)\n",
    "        #return self.B\n",
    "        \n",
    "        \n",
    "        \n",
    "    \n",
    "    \n",
    "joao = Automatos()\n",
    "print(joao.deterministic_automata())"
   ]
  },
  {
   "cell_type": "code",
   "execution_count": null,
   "metadata": {},
   "outputs": [],
   "source": []
  },
  {
   "cell_type": "code",
   "execution_count": null,
   "metadata": {},
   "outputs": [],
   "source": []
  }
 ],
 "metadata": {
  "kernelspec": {
   "display_name": "Python 3",
   "language": "python",
   "name": "python3"
  },
  "language_info": {
   "codemirror_mode": {
    "name": "ipython",
    "version": 3
   },
   "file_extension": ".py",
   "mimetype": "text/x-python",
   "name": "python",
   "nbconvert_exporter": "python",
   "pygments_lexer": "ipython3",
   "version": "3.6.8"
  }
 },
 "nbformat": 4,
 "nbformat_minor": 4
}
