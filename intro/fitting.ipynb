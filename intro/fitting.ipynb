{
 "cells": [
  {
   "cell_type": "code",
   "execution_count": 71,
   "metadata": {},
   "outputs": [],
   "source": [
    "import numpy as np\n",
    "import matplotlib.pyplot as plt"
   ]
  },
  {
   "cell_type": "code",
   "execution_count": 72,
   "metadata": {},
   "outputs": [
    {
     "name": "stdout",
     "output_type": "stream",
     "text": [
      "[[-0.47  1.14]\n",
      " [-0.26  1.12]\n",
      " [ 0.15  1.28]\n",
      " [ 0.82  1.47]\n",
      " [-0.6   0.93]]\n",
      "[[-0.47 -0.26  0.15  0.82 -0.6 ]\n",
      " [ 1.14  1.12  1.28  1.47  0.93]]\n"
     ]
    }
   ],
   "source": [
    "#table = [[-0.47,-0.26,0.15,0.82,-0.60],[1.14,1.12,1.28,1.47,0.93]]\n",
    "table = [[-0.47,1.14],[-0.26,1.12],[0.15,1.28],[0.82,1.47],[-0.60,0.93]]\n",
    "\n",
    "table_transpose = np.transpose(table)\n",
    "table_array = np.array(table)\n",
    "print(table_array)\n",
    "print(table_transpose)"
   ]
  },
  {
   "cell_type": "code",
   "execution_count": 73,
   "metadata": {},
   "outputs": [
    {
     "name": "stdout",
     "output_type": "stream",
     "text": [
      "[1.14, 1.12, 1.28, 1.47, 0.93]\n",
      "[[ 1.   -0.47]\n",
      " [ 1.   -0.26]\n",
      " [ 1.    0.15]\n",
      " [ 1.    0.82]\n",
      " [ 1.   -0.6 ]]\n"
     ]
    }
   ],
   "source": [
    "y = [x[1] for x in table_array]\n",
    "print(y)\n",
    "\n",
    "\n",
    "#Tentar usando um loop!\n",
    "x = [[1,table_array[0][0]],[1,table_array[1][0]],[1,table_array[2][0]],[1,table_array[3][0]],[1,table_array[4][0]]]\n",
    "#x = [[1,1,1,1,1],[x[1] for x in table_array]]\n",
    "print(np.array(x))"
   ]
  },
  {
   "cell_type": "code",
   "execution_count": 74,
   "metadata": {},
   "outputs": [
    {
     "name": "stdout",
     "output_type": "stream",
     "text": [
      "[[ 1.    1.    1.    1.    1.  ]\n",
      " [-0.47 -0.26  0.15  0.82 -0.6 ]]\n"
     ]
    }
   ],
   "source": [
    "x_transpose = np.transpose(x)\n",
    "print(x_transpose)"
   ]
  },
  {
   "cell_type": "code",
   "execution_count": 75,
   "metadata": {},
   "outputs": [
    {
     "name": "stdout",
     "output_type": "stream",
     "text": [
      "[[ 0.17824939  0.18972584  0.21213225  0.24874761  0.17114491]\n",
      " [-0.30209187 -0.14269666  0.16850351  0.67705013 -0.4007651 ]]\n",
      "[[ 0.17824939 -0.30209187]\n",
      " [ 0.18972584 -0.14269666]\n",
      " [ 0.21213225  0.16850351]\n",
      " [ 0.24874761  0.67705013]\n",
      " [ 0.17114491 -0.4007651 ]]\n"
     ]
    }
   ],
   "source": [
    "part1 = np.dot(x_transpose,x)\n",
    "part2 = np.linalg.inv(part1)\n",
    "\n",
    "#print(part2)\n",
    "\n",
    "B = np.dot(part2,x_transpose)\n",
    "\n",
    "print(B)\n",
    "\n",
    "table_b = np.reshape(np.transpose(B),(5,2))\n",
    "\n",
    "print(table_b)"
   ]
  },
  {
   "cell_type": "code",
   "execution_count": 76,
   "metadata": {},
   "outputs": [
    {
     "name": "stdout",
     "output_type": "stream",
     "text": [
      "[[-0.47 -0.26  0.15  0.82 -0.6 ]\n",
      " [ 1.14  1.12  1.28  1.47  0.93]]\n"
     ]
    },
    {
     "data": {
      "image/png": "[encoded data removed]",
      "text/plain": [
       "<Figure size 432x288 with 1 Axes>"
      ]
     },
     "metadata": {
      "needs_background": "light"
     },
     "output_type": "display_data"
    }
   ],
   "source": [
    "print(table_transpose)\n",
    "plt.plot(table_transpose[0], 'ro')\n",
    "plt.show()"
   ]
  },
  {
   "cell_type": "code",
   "execution_count": null,
   "metadata": {},
   "outputs": [],
   "source": []
  }
 ],
 "metadata": {
  "kernelspec": {
   "display_name": "Python 3",
   "language": "python",
   "name": "python3"
  },
  "language_info": {
   "codemirror_mode": {
    "name": "ipython",
    "version": 3
   },
   "file_extension": ".py",
   "mimetype": "text/x-python",
   "name": "python",
   "nbconvert_exporter": "python",
   "pygments_lexer": "ipython3",
   "version": "3.7.3"
  }
 },
 "nbformat": 4,
 "nbformat_minor": 2
}
