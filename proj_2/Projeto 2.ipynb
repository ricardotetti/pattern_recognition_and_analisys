{
 "cells": [
  {
   "cell_type": "code",
   "execution_count": 1,
   "metadata": {},
   "outputs": [],
   "source": [
    "from random import seed\n",
    "from random import random\n",
    "import numpy as np \n",
    "import matplotlib.pyplot as plt\n",
    "from scipy import signal\n",
    "from scipy import stats\n",
    "import pylab\n",
    "import math\n",
    "import networkx as nx"
   ]
  },
  {
   "cell_type": "code",
   "execution_count": 2,
   "metadata": {},
   "outputs": [
    {
     "name": "stdout",
     "output_type": "stream",
     "text": [
      "[0, 0, 0, 1, 1, 2, 2, 2, 2, 3, 3, 3, 0, 1, 2, 3, 0, 1, 2, 3, 0, 1, 2, 2, 2, 2, 2, 2, 2, 3, 0, 1, 2, 2, 2, 2, 2, 2, 3, 3, 3, 3, 0, 1, 2, 2, 3, 3, 0, 1, 2, 2, 2, 2, 3, 0, 1, 2, 2, 3, 0, 0, 1, 2, 3, 0, 0, 1, 2, 2, 3, 3, 0, 1, 2, 2, 2, 2, 2, 2, 2, 3, 0, 0, 1, 2, 3, 0, 0, 0, 0, 1, 2, 2, 2, 3, 0, 1, 2, 3, 0, 1, 2, 3, 3, 0, 1, 2, 3, 0, 0, 0, 1, 2, 3, 0, 1, 2, 3, 0, 1, 2, 3, 3, 0, 0, 0, 1, 2, 2, 2, 2, 2, 3, 3, 3, 0, 1, 2, 2, 2, 2, 3, 0, 1, 2, 2, 3, 0, 1, 1, 2, 3, 0, 1, 2, 3, 0, 0, 1, 1, 2, 2, 3, 0, 0, 1, 2, 3, 0, 0, 1, 2, 2, 3, 3, 0, 1, 2, 3, 0, 1, 2, 3, 0, 1, 2, 3, 3, 0, 0, 1, 2, 3, 0, 0, 0, 0, 1, 2]\n"
     ]
    }
   ],
   "source": [
    "#def main():\n",
    "#    M = [[0.5,0.5,0,0],\n",
    "#        [0,0.1,0.9,0],\n",
    "#        [0,0,0.6,0.4],\n",
    "#        [0.7,0,0,0.3]\n",
    "#        ] \n",
    "\n",
    "#    auto = Automatos(M, [0,1,2,3])\n",
    "#    padroes_fig2 = auto.deterministic(200)\n",
    "    #print(padroes_fig2)\n",
    "#    return padroes_fig2\n",
    "    \n",
    "class Automatos:\n",
    "    def __init__(self, matriz, symbols):\n",
    "        self.matriz = np.array(matriz)\n",
    "        self.symb = symbols\n",
    "    def deterministic(self, inter):\n",
    "        p = []\n",
    "        i = 0\n",
    "        for k in range(inter):\n",
    "            r = random()\n",
    "            a = 0\n",
    "            for j in range(len(self.matriz)):\n",
    "                a = a + self.matriz[i][j]\n",
    "                if r < a:\n",
    "                    p.append(self.symb[i])\n",
    "                    i = j\n",
    "                    break\n",
    "        return p\n",
    "\n",
    "#if __name__ == '__main__':\n",
    "#    main()\n",
    "\n",
    "M = [[0.5,0.5,0,0],\n",
    "    [0,0.1,0.9,0],\n",
    "    [0,0,0.6,0.4],\n",
    "    [0.7,0,0,0.3]\n",
    "    ] \n",
    "\n",
    "auto = Automatos(M, [0,1,2,3])\n",
    "padroes_fig2 = auto.deterministic(200)\n",
    "print(padroes_fig2)"
   ]
  },
  {
   "cell_type": "code",
   "execution_count": 3,
   "metadata": {},
   "outputs": [],
   "source": [
    "#from numpy import arange\n",
    "#plt.title(\"Bar Plot\")\n",
    "#plt.step(arange(0,len(padroes_fig2)),padroes_fig2, color = 'darkblue')\n",
    "#plt.xlim(0,len(padroes_fig2))\n",
    "#plt.show()"
   ]
  },
  {
   "cell_type": "code",
   "execution_count": 4,
   "metadata": {},
   "outputs": [
    {
     "data": {
      "image/png": "[encoded data removed]",
      "text/plain": [
       "<Figure size 432x288 with 4 Axes>"
      ]
     },
     "metadata": {
      "needs_background": "light"
     },
     "output_type": "display_data"
    }
   ],
   "source": [
    "def main():\n",
    "    split_fig2 = split_signal()\n",
    "    split_fig2.split(padroes_fig2)\n",
    "    split_fig2.relative_frequency()\n",
    "    split_fig2.plots()    \n",
    "\n",
    "class split_signal:\n",
    "    def __init__(self):\n",
    "        self.list_zero = []\n",
    "        self.list_one = []\n",
    "        self.list_two = []\n",
    "        self.list_three = []\n",
    "        self.lista_burst = []\n",
    "        self.relative_fre = []\n",
    "    def split(self, lista):\n",
    "        for i in range(len(lista)):\n",
    "            if lista[i] == 0:\n",
    "                self.list_zero.append(1)\n",
    "            else:\n",
    "                self.list_zero.append(0)\n",
    "        for i in range(len(lista)):\n",
    "            if lista[i] == 1:\n",
    "                self.list_one.append(1)\n",
    "            else:\n",
    "                self.list_one.append(0)\n",
    "        for i in range(len(lista)):\n",
    "            if lista[i] == 2:\n",
    "                self.list_two.append(1)\n",
    "            else:\n",
    "                self.list_two.append(0)\n",
    "        for i in range(len(lista)):\n",
    "            if lista[i] == 3:\n",
    "                self.list_three.append(1)\n",
    "            else:\n",
    "                self.list_three.append(0)\n",
    "        #print(self.list_one)\n",
    "    def relative_frequency(self):    \n",
    "        for i in range (len(self.list_zero)):\n",
    "            self.relative_fre.append((self.list_zero[i])/(len(self.list_zero)))\n",
    "    def plots(self):\n",
    "        fig, axs = plt.subplots(4)\n",
    "        fig.suptitle('Split signals')\n",
    "        x = np.arange(200)\n",
    "        axs[0].bar(x, self.list_zero)\n",
    "        axs[1].bar(x, self.list_one)\n",
    "        axs[2].bar(x, self.list_two)\n",
    "        axs[3].bar(x, self.list_three)\n",
    "        pylab.xlim(0,200)\n",
    "        pylab.ylim(0,1)\n",
    "       \n",
    "    \n",
    "if __name__ == \"__main__\":\n",
    "    main()"
   ]
  },
  {
   "cell_type": "code",
   "execution_count": 5,
   "metadata": {},
   "outputs": [
    {
     "name": "stdout",
     "output_type": "stream",
     "text": [
      "Média: 105.28125\n",
      "Desvio padrao: 57.463702877881964\n",
      "Entropia: 1.949183328392557\n",
      "Evenness: 3.8615587703247063\n"
     ]
    }
   ],
   "source": [
    "def main():\n",
    "    burst_fig2 = burst()\n",
    "    burst_fig2.split(padroes_fig2)\n",
    "    burst_fig2.relative_frequency()\n",
    "    burst_fig2.burst_(200 - 1)\n",
    "    burst_fig2.media_burst()\n",
    "    burst_fig2.desvio_burst()\n",
    "    burst_fig2.entropia()\n",
    "\n",
    "class burst(split_signal):\n",
    "    def __init__(self):\n",
    "        split_signal.__init__(self)\n",
    "        self.lista_burst = []\n",
    "    def burst_(self, interacoes):\n",
    "        i = 1\n",
    "        L = self.list_zero\n",
    "        while (i<=interacoes):\n",
    "            if(L[i] == 1):\n",
    "                i_0 = 1\n",
    "                while (L[i] == 1) and (i<interacoes):\n",
    "                    i+=1\n",
    "                if (i == M)and(L[i] == 1):\n",
    "                    i = M-1\n",
    "                bs = i-i_0\n",
    "                if(bs>0):\n",
    "                    self.lista_burst.append(bs)\n",
    "            i += 1\n",
    "        #print(self.lista_burst)\n",
    "    def media_burst(self):\n",
    "        media = np.mean(self.lista_burst)\n",
    "        print(\"Média:\",media)\n",
    "    def desvio_burst(self):\n",
    "        desvio = np.std(self.lista_burst)\n",
    "        print(\"Desvio padrao:\", desvio)\n",
    "    def entropia(self):\n",
    "        indices = []\n",
    "        for i in range(len(self.relative_fre)):\n",
    "            if self.relative_fre[i] != 0:\n",
    "                k = (self.relative_fre[i])*(math.log(self.relative_fre[i],2))\n",
    "                indices.append(k)\n",
    "        #print(self.relative_fre)\n",
    "        epsilon = (-1)*sum(indices)\n",
    "        eta = 2**((-1)*sum(indices))\n",
    "        print(\"Entropia:\", epsilon)\n",
    "        print(\"Evenness:\", eta)\n",
    "        \n",
    "if __name__ == '__main__':\n",
    "    main()"
   ]
  },
  {
   "cell_type": "code",
   "execution_count": 13,
   "metadata": {},
   "outputs": [
    {
     "name": "stdout",
     "output_type": "stream",
     "text": [
      "Número de distâncias intersímbolos: 50\n",
      "Média: 111.46\n",
      "Desvio: 56.896822406879636\n",
      "Entropia: 5.643856189774728\n",
      "Evenness: 50.000000000000114\n"
     ]
    }
   ],
   "source": [
    "def main():\n",
    "    intersymbol_fig2 = inter_symbol()\n",
    "    intersymbol_fig2.split(padroes_fig2)\n",
    "    intersymbol_fig2.distance(200)\n",
    "    intersymbol_fig2.number_distance()\n",
    "    intersymbol_fig2.media_desvio()\n",
    "    intersymbol_fig2.entropia_evenness()\n",
    "    #intersymbol_fig2.media_intersymbol()\n",
    "\n",
    "    \n",
    "class inter_symbol(split_signal):\n",
    "    def __init__(self):\n",
    "        split_signal.__init__(self)\n",
    "        self.list_inter_symbol = []\n",
    "\n",
    "    def distance(self, interacoes):\n",
    "        L = self.list_zero\n",
    "        for i in range(interacoes):\n",
    "            if(L[i] == 1):\n",
    "                bs = 0\n",
    "                while(L[i] == 0) & (i<interacoes):\n",
    "                    i += 1\n",
    "                if (i == interacoes) & (L[i] == 1):\n",
    "                    bs = interacoes \n",
    "                elif (i == interacoes) & (L[i] == 0):\n",
    "                    bs = 0\n",
    "                elif (i<interacoes) & (L[i] == 1):\n",
    "                    bs = i\n",
    "                if (bs>0):\n",
    "                    self.list_inter_symbol.append(bs)\n",
    "            i += 1\n",
    "        #print(self.list_inter_symbol)\n",
    "    def number_distance(self):\n",
    "        print(\"Número de distâncias intersímbolos:\", len(self.list_inter_symbol))\n",
    "    def media_desvio(self):\n",
    "        media_ = sum(self.list_inter_symbol)/len(self.list_inter_symbol)\n",
    "        desvio_ = np.std(self.list_inter_symbol)\n",
    "        print(\"Média:\",media_)\n",
    "        print(\"Desvio:\", desvio_)\n",
    "    def entropia_evenness(self):\n",
    "        k = []\n",
    "        indices = []\n",
    "        for i in range(len(self.list_inter_symbol)):\n",
    "            k.append(1/len(self.list_inter_symbol))\n",
    "        for i in range(len(k)):\n",
    "            if k[i] != 0:\n",
    "                indices_ = ((k[i])*(math.log(k[i],2)))\n",
    "                indices.append(indices_)\n",
    "        entropia = -(sum(indices))\n",
    "        evenness = 2**(entropia)\n",
    "        print(\"Entropia:\", entropia)\n",
    "        print(\"Evenness:\", evenness)\n",
    "        \n",
    "        \n",
    "if __name__ == '__main__':\n",
    "    main()"
   ]
  },
  {
   "cell_type": "code",
   "execution_count": 7,
   "metadata": {},
   "outputs": [
    {
     "name": "stdout",
     "output_type": "stream",
     "text": [
      "Media: (1-1.0711699534071862e-16j)\n",
      "Desvio padrão: 7.0710678118654755\n"
     ]
    }
   ],
   "source": [
    "def main():\n",
    "    fourier_fig2 = fourier_transform()\n",
    "    fourier_fig2.split(padroes_fig2)      \n",
    "    fourier_fig2.transform(200)\n",
    "    fourier_fig2.media()\n",
    "    fourier_fig2.desvio()\n",
    "\n",
    "class fourier_transform(split_signal):\n",
    "    def __init__(self):\n",
    "        split_signal.__init__(self)\n",
    "        self.transformada = []\n",
    "    def transform(self, interacoes):\n",
    "        L = self.list_zero\n",
    "        self.transformada = np.fft.fft(L, (interacoes-1))\n",
    "        #print(self.transformada)\n",
    "    def media(self):\n",
    "        media = np.mean(self.transformada)\n",
    "        print(\"Media:\", media)\n",
    "    def desvio(self):\n",
    "        desvio_padrao = np.std(self.transformada)\n",
    "        print(\"Desvio padrão:\", desvio_padrao)        \n",
    "    \n",
    "if __name__ == \"__main__\":\n",
    "    main()"
   ]
  },
  {
   "cell_type": "code",
   "execution_count": 8,
   "metadata": {
    "scrolled": true
   },
   "outputs": [
    {
     "name": "stdout",
     "output_type": "stream",
     "text": [
      "[[0 0 0 ... 0 0 0]\n",
      " [0 0 0 ... 0 0 0]\n",
      " [0 0 0 ... 0 0 0]\n",
      " ...\n",
      " [0 0 0 ... 0 0 0]\n",
      " [0 0 0 ... 0 0 0]\n",
      " [0 0 0 ... 0 0 0]]\n",
      "2.28\n",
      "0.10616044461097551\n"
     ]
    }
   ],
   "source": [
    "def main():\n",
    "    network_fig2 = network_based()\n",
    "    network_fig2.visibility(padroes_fig2)\n",
    "    network_fig2.average_degree()\n",
    "\n",
    "class network_based(split_signal):\n",
    "    def __init__(self):\n",
    "        split_signal.__init__(self)\n",
    "        self.M = np.zeros((200,200), dtype=int)\n",
    "    def visibility(self, L):     \n",
    "        for j in range(2,200):\n",
    "            for i in range(1, j-1):\n",
    "                flag = 1\n",
    "                k = i + 1\n",
    "                while (k <= j-1) and (flag == 1):\n",
    "                    aux = L[j] + (L[i]-L[j])*(j-k)/(j-i)\n",
    "                    if (L[k] >= aux):\n",
    "                        flag = 0\n",
    "                    k += 1\n",
    "                if (flag == 1):\n",
    "                    self.M[i][j] = 1\n",
    "                    self.M[j][i] = 1\n",
    "        print(self.M)\n",
    "    def average_degree(self):\n",
    "        edges = 0\n",
    "        for i in range(200):\n",
    "            for j in range(200):\n",
    "                if self.M[i][j] == 1:\n",
    "                    edges += 1\n",
    "        average = edges/200\n",
    "        standard_deviation = self.M.std()\n",
    "        print(average)\n",
    "        print(standard_deviation)\n",
    "    #def clustering_coefficient(self):\n",
    "        \n",
    "            \n",
    "            \n",
    "if __name__ == '__main__':\n",
    "    main()"
   ]
  },
  {
   "cell_type": "code",
   "execution_count": null,
   "metadata": {},
   "outputs": [],
   "source": []
  }
 ],
 "metadata": {
  "kernelspec": {
   "display_name": "Python 3",
   "language": "python",
   "name": "python3"
  },
  "language_info": {
   "codemirror_mode": {
    "name": "ipython",
    "version": 3
   },
   "file_extension": ".py",
   "mimetype": "text/x-python",
   "name": "python",
   "nbconvert_exporter": "python",
   "pygments_lexer": "ipython3",
   "version": "3.7.3"
  }
 },
 "nbformat": 4,
 "nbformat_minor": 2
}
