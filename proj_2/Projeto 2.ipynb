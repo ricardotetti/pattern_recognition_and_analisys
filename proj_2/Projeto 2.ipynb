{
 "cells": [
  {
   "cell_type": "code",
   "execution_count": 1,
   "metadata": {},
   "outputs": [],
   "source": [
    "from random import seed\n",
    "from random import random\n",
    "import numpy as np \n",
    "import matplotlib.pyplot as plt\n",
    "from scipy import signal\n",
    "import pylab\n",
    "import math\n",
    "import seaborn as sns"
   ]
  },
  {
   "cell_type": "code",
   "execution_count": 15,
   "metadata": {},
   "outputs": [
    {
     "name": "stdout",
     "output_type": "stream",
     "text": [
      "[ 0  1  0  0  0 -3  1  0  0  1 -3  0  0  0 -4  0 -4 -4 -4 -4  1]\n"
     ]
    }
   ],
   "source": [
    "class Automatos:\n",
    "    def __init__(self):\n",
    "        self.fig2 = [[0.5,0.5,0,0],\n",
    "            [0,0.1,0.9,0],\n",
    "            [0,0,0.6,0.4],\n",
    "            [0.7,0,0,0.3]\n",
    "            ] #Automato figura 2, cdt 23\n",
    "        self.r = random()\n",
    "    def deterministic_automata(self, i):\n",
    "        p = np.array([])\n",
    "        array_fig2 = np.array(self.fig2)\n",
    "        A_transpose = array_fig2.transpose()\n",
    "        r = random()\n",
    "        \n",
    "        if i == 1:\n",
    "            p = A_transpose[1]\n",
    "            l = p[i]\n",
    "            while r > l:\n",
    "                i -= 1\n",
    "                l += p[i]\n",
    "        elif i == 0:\n",
    "            p = A_transpose[0]\n",
    "            l = p[i]\n",
    "            while r > l:\n",
    "                i += 1\n",
    "                l += p[i]\n",
    "        return i\n",
    "    \n",
    "joao = Automatos()\n",
    "inter = 20\n",
    "h = [0]\n",
    "\n",
    "for i in range(inter-1):\n",
    "    h.append(joao.deterministic_automata(1))\n",
    "\n",
    "fig2_padroes = np.append(h,1)\n",
    "print(fig2_padroes)"
   ]
  },
  {
   "cell_type": "code",
   "execution_count": null,
   "metadata": {},
   "outputs": [],
   "source": []
  }
 ],
 "metadata": {
  "kernelspec": {
   "display_name": "Python 3",
   "language": "python",
   "name": "python3"
  },
  "language_info": {
   "codemirror_mode": {
    "name": "ipython",
    "version": 3
   },
   "file_extension": ".py",
   "mimetype": "text/x-python",
   "name": "python",
   "nbconvert_exporter": "python",
   "pygments_lexer": "ipython3",
   "version": "3.7.3"
  }
 },
 "nbformat": 4,
 "nbformat_minor": 2
}
