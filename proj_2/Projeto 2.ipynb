{
 "cells": [
  {
   "cell_type": "code",
   "execution_count": 1,
   "metadata": {},
   "outputs": [],
   "source": [
    "from random import seed\n",
    "from random import random\n",
    "import numpy as np \n",
    "import matplotlib.pyplot as plt\n",
    "from scipy import signal\n",
    "import pylab\n",
    "import math\n",
    "import seaborn as sns"
   ]
  },
  {
   "cell_type": "code",
   "execution_count": 2,
   "metadata": {},
   "outputs": [],
   "source": [
    "class Automatos:\n",
    "    def __init__(self, matriz, symbols):\n",
    "        self.matriz = np.array(matriz)\n",
    "        self.symb = symbols\n",
    "    def deterministic(self, inter):\n",
    "        p = []\n",
    "        i = 0\n",
    "        for k in range(inter):\n",
    "            r = random()\n",
    "            a = 0\n",
    "            for j in range(len(self.matriz)):\n",
    "                a = a + self.matriz[i][j]\n",
    "                if r < a:\n",
    "                    p.append(self.symb[i])\n",
    "                    i = j\n",
    "                    break\n",
    "        return p\n",
    "M = [[0.5,0.5,0,0],\n",
    "    [0,0.1,0.9,0],\n",
    "    [0,0,0.6,0.4],\n",
    "    [0.7,0,0,0.3]\n",
    "    ] \n",
    "auto = Automatos(M, [0,1,2,3])\n",
    "padroes_fig2 = auto.deterministic(200)\n",
    "#print(padroes_fig2)"
   ]
  },
  {
   "cell_type": "code",
   "execution_count": 3,
   "metadata": {},
   "outputs": [],
   "source": [
    "#from numpy import arange\n",
    "#plt.title(\"Bar Plot\")\n",
    "#plt.step(arange(0,len(padroes_fig2)),padroes_fig2, color = 'darkblue')\n",
    "#plt.xlim(0,len(padroes_fig2))\n",
    "#plt.show()"
   ]
  },
  {
   "cell_type": "code",
   "execution_count": 14,
   "metadata": {},
   "outputs": [
    {
     "data": {
      "image/png": "[encoded data removed]",
      "text/plain": [
       "<Figure size 432x288 with 1 Axes>"
      ]
     },
     "metadata": {
      "needs_background": "light"
     },
     "output_type": "display_data"
    }
   ],
   "source": [
    "class split_signal:\n",
    "    def __init__(self):\n",
    "        self.list_zero = []\n",
    "        self.list_one = []\n",
    "        self.list_two = []\n",
    "        self.list_three = []\n",
    "    def split(self, lista):\n",
    "        for i in range(len(lista)):\n",
    "            if lista[i] == 0:\n",
    "                self.list_zero.append(1)\n",
    "            else:\n",
    "                self.list_zero.append(0)\n",
    "        for i in lista:\n",
    "            if lista[i] == 1:\n",
    "                self.list_one.append(1)\n",
    "            else:\n",
    "                self.list_one.append(0)\n",
    "        for i in lista:\n",
    "            if lista[i] == 2:\n",
    "                self.list_two.append(1)\n",
    "            else:\n",
    "                self.list_two.append(0)\n",
    "        for i in lista:\n",
    "            if lista[i] == 3:\n",
    "                self.list_three.append(1)\n",
    "            else:\n",
    "                self.list_three.append(0)   \n",
    "        return self.list_zero\n",
    "    #def plots(self):\n",
    "        #plt.bar(len(self.list_zero), self.list_zero)\n",
    "        #plt.show()\n",
    "        #fig, axs = plt.subplots(4)\n",
    "        #fig.suptitle('Split signals')\n",
    "        #axs[0].plot(self.list_zero, len(self.list_zero))\n",
    "        #axs[1].plot(self.list_one, len(self.list_one))\n",
    "        #axs[2].plot(self.list_two, len(self.list_two))\n",
    "        #axs[3].plot(self.list_three, len(self.list_three))\n",
    "            \n",
    "split_fig2 = split_signal()\n",
    "hl = split_fig2.split(padroes_fig2)\n",
    "#split_fig2.plots()\n",
    "\n",
    "x = np.arange(200)\n",
    "plt.bar(x, hl)\n",
    "#plt.bar(x, carlos_padroes)\n",
    "#plt.bar(x,pedro_padroes)\n",
    "\n",
    "plt.title('Barplot')\n",
    "plt.xlabel('f')\n",
    "pylab.xlim(0,200)\n",
    "pylab.ylim(0,1)\n",
    "\n",
    "plt.show()"
   ]
  },
  {
   "cell_type": "code",
   "execution_count": null,
   "metadata": {},
   "outputs": [],
   "source": []
  }
 ],
 "metadata": {
  "kernelspec": {
   "display_name": "Python 3",
   "language": "python",
   "name": "python3"
  },
  "language_info": {
   "codemirror_mode": {
    "name": "ipython",
    "version": 3
   },
   "file_extension": ".py",
   "mimetype": "text/x-python",
   "name": "python",
   "nbconvert_exporter": "python",
   "pygments_lexer": "ipython3",
   "version": "3.7.3"
  }
 },
 "nbformat": 4,
 "nbformat_minor": 2
}
