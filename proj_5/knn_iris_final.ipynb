{
 "cells": [
  {
   "cell_type": "code",
   "execution_count": 1,
   "metadata": {},
   "outputs": [],
   "source": [
    "import numpy as np\n",
    "import matplotlib.pyplot as plt\n",
    "from sklearn import datasets\n",
    "from scipy.spatial.distance import cdist\n",
    "from collections import Counter\n",
    "import tensorflow as tf\n",
    "from sklearn.model_selection import train_test_split\n",
    "from sklearn.metrics import confusion_matrix"
   ]
  },
  {
   "cell_type": "code",
   "execution_count": 2,
   "metadata": {},
   "outputs": [],
   "source": [
    "class KNN:\n",
    "    def __init__(self, k = 3):\n",
    "        self._k = k\n",
    "        self._neighbors = None\n",
    "    def fit(self, X, y):\n",
    "        self._X = X #data\n",
    "        self._y = y #target\n",
    "        return self\n",
    "    def __predict(self, column):\n",
    "        neighbors = tf.gather_nd(self._y, tf.reshape(column, (-1,1)))\n",
    "        return Counter(neighbors.numpy()).most_common()[0][0]\n",
    "    def predict(self, X):\n",
    "        distances = cdist(self._X, X, 'euclidean')\n",
    "        arg_sorted_distances = tf.argsort(distances, axis = 0)\n",
    "        neighbors = arg_sorted_distances[:self._k]\n",
    "        predictios = tf.map_fn(self.__predict, tf.transpose(neighbors))\n",
    "        return tf.cast(predictios, 'float32')"
   ]
  },
  {
   "cell_type": "code",
   "execution_count": 12,
   "metadata": {},
   "outputs": [
    {
     "name": "stdout",
     "output_type": "stream",
     "text": [
      "[[ 9  0  0]\n",
      " [ 0 13  0]\n",
      " [ 0  0  8]]\n"
     ]
    }
   ],
   "source": [
    "iris = datasets.load_iris()\n",
    "X, y = iris.data, iris.target\n",
    "X_train, X_test, y_train, y_test = train_test_split(X, y, test_size=0.2, random_state=1234)\n",
    "\n",
    "#print(iris)\n",
    "\n",
    "k = 3\n",
    "iris_knn = KNN(k=k)\n",
    "iris_knn.fit(X_train, y_train)\n",
    "predictions = iris_knn.predict(X_test)\n",
    "\n",
    "print(confusion_matrix(y_test, predictions))"
   ]
  }
 ],
 "metadata": {
  "kernelspec": {
   "display_name": "Python 3",
   "language": "python",
   "name": "python3"
  },
  "language_info": {
   "codemirror_mode": {
    "name": "ipython",
    "version": 3
   },
   "file_extension": ".py",
   "mimetype": "text/x-python",
   "name": "python",
   "nbconvert_exporter": "python",
   "pygments_lexer": "ipython3",
   "version": "3.7.3"
  }
 },
 "nbformat": 4,
 "nbformat_minor": 2
}
