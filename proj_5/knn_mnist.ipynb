{
 "cells": [
  {
   "cell_type": "code",
   "execution_count": 1,
   "metadata": {},
   "outputs": [],
   "source": [
    "import numpy as np\n",
    "import matplotlib.pyplot as plt\n",
    "from sklearn import datasets\n",
    "from scipy.spatial.distance import cdist\n",
    "from collections import Counter\n",
    "import tensorflow as tf\n",
    "from sklearn.model_selection import train_test_split\n",
    "from sklearn.metrics import confusion_matrix"
   ]
  },
  {
   "cell_type": "code",
   "execution_count": 2,
   "metadata": {},
   "outputs": [],
   "source": [
    "class KNN:\n",
    "    def __init__(self, k = 3):\n",
    "        self._k = k\n",
    "        self._neighbors = None\n",
    "    def fit(self, X, y):\n",
    "        self._X = X #data\n",
    "        self._y = y #target\n",
    "        return self\n",
    "    def __predict(self, column):\n",
    "        neighbors = tf.gather_nd(self._y, tf.reshape(column, (-1,1)))\n",
    "        return Counter(neighbors.numpy()).most_common()[0][0]\n",
    "    def predict(self, X):\n",
    "        distances = cdist(self._X, X, 'euclidean')\n",
    "        arg_sorted_distances = tf.argsort(distances, axis = 0)\n",
    "        neighbors = arg_sorted_distances[:self._k]\n",
    "        predictios = tf.map_fn(self.__predict, tf.transpose(neighbors))\n",
    "        return tf.cast(predictios, 'float32')"
   ]
  },
  {
   "cell_type": "code",
   "execution_count": 3,
   "metadata": {},
   "outputs": [],
   "source": [
    "digits = datasets.load_digits()"
   ]
  },
  {
   "cell_type": "code",
   "execution_count": 7,
   "metadata": {},
   "outputs": [
    {
     "name": "stdout",
     "output_type": "stream",
     "text": [
      "[[87  0  0  0  1  0  0  0  0  0]\n",
      " [ 0 88  1  0  0  0  0  0  2  0]\n",
      " [ 1  0 81  4  0  0  0  0  0  0]\n",
      " [ 0  0  0 83  0  1  0  2  3  2]\n",
      " [ 0  0  0  0 86  0  0  0  0  6]\n",
      " [ 0  0  0  0  0 88  1  0  0  2]\n",
      " [ 0  0  0  0  0  0 91  0  0  0]\n",
      " [ 0  0  0  0  0  0  0 88  1  0]\n",
      " [ 0  2  0  2  0  0  0  0 84  0]\n",
      " [ 0  0  0  3  0  2  0  0  1 86]]\n"
     ]
    }
   ],
   "source": [
    "n_samples = len(digits.images)\n",
    "data = digits.images.reshape((n_samples, -1))\n",
    "\n",
    "X_train, X_test, y_train, y_test = train_test_split(data, digits.target, test_size=0.5, shuffle=False)\n",
    "\n",
    "k = 3\n",
    "iris_knn = KNN(k=k)\n",
    "iris_knn.fit(X_train, y_train)\n",
    "predictions = iris_knn.predict(X_test)\n",
    "\n",
    "print(confusion_matrix(y_test, predictions))"
   ]
  }
 ],
 "metadata": {
  "kernelspec": {
   "display_name": "Python 3",
   "language": "python",
   "name": "python3"
  },
  "language_info": {
   "codemirror_mode": {
    "name": "ipython",
    "version": 3
   },
   "file_extension": ".py",
   "mimetype": "text/x-python",
   "name": "python",
   "nbconvert_exporter": "python",
   "pygments_lexer": "ipython3",
   "version": "3.7.3"
  }
 },
 "nbformat": 4,
 "nbformat_minor": 2
}
